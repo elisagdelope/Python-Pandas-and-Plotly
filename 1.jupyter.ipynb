{
 "cells": [
  {
   "attachments": {},
   "cell_type": "markdown",
   "metadata": {},
   "source": [
    "# Jupyter Notebook Usage\n",
    "#### PyLadiesBcn / PyDay 2018\n"
   ]
  },
  {
   "cell_type": "markdown",
   "metadata": {},
   "source": [
    "# Jupyter Notebook: create and share documents!\n",
    "\n",
    "Open source web application to create and share documents containing:\n",
    "- **live code** (you can run it!)\n",
    "- **equations**\n",
    "- **visualizations**\n",
    "- **narrative text** (markdown)\n",
    "\n",
    "Code, text and output are stored in an editable document called a **notebook**. When you save it, this is sent from your browser to the notebook server, which saves it on disk as a **JSON file with a .ipynb extension**.\n",
    "\n",
    "![notebook components](images/notebook_components.png)"
   ]
  },
  {
   "cell_type": "markdown",
   "metadata": {},
   "source": [
    "## Why is it cool?\n",
    "- **edit rich text in the browser** using the Markdown markup language\n",
    "- **edit the code in the browser**, with automatic syntax highlighting, indentation, and tab completion/introspection\n",
    "- **execute code from the browser**, with the results of computations attached to the code which generated them\n",
    "- **display the results of computation** using **rich media representations**, such as HTML, LaTeX, PNG, SVG, etc \n",
    "    - include publication-quality figures rendered by the matplotlib library!\n",
    "- **include mathematical notation** within markdown cells using **LaTeX**\n",
    "- **share your notebooks** as ipynb files, allowing others to execute your code\n",
    "    - **export** your notebooks **to a standard format** (HTML, pdf, LaTeX, etc.) to show your work"
   ]
  },
  {
   "cell_type": "markdown",
   "metadata": {},
   "source": [
    "## I want to use it! Which packages do I need?\n",
    "\n",
    "![jupyter packages](images/which_packages.png)"
   ]
  },
  {
   "cell_type": "markdown",
   "metadata": {},
   "source": [
    "## A Visual Overview of Projects\n",
    "![overview](images/jupyter_overview.png)"
   ]
  },
  {
   "cell_type": "markdown",
   "metadata": {},
   "source": [
    "## JupyterHub: you don't have to install anything! \n",
    "\n",
    "**Multi-user** version of the notebook, useful for research labs, classrooms, companies, etc. \n",
    "\n",
    "JupyterHub can be used to serve notebooks to a class of students, a corporate data science group, or a scientific **research group**.\n",
    "\n",
    "Gives users access to computational environments and resources without burdening the users with installation and maintenance tasks. Offers:\n",
    "\n",
    "- pluggable authentication (i.e. GitHub authentication)\n",
    "- centralized deployment\n",
    "- container friendly\n"
   ]
  },
  {
   "cell_type": "markdown",
   "metadata": {},
   "source": [
    "# Installation: the environment\n",
    "\n",
    "Simple instructions to start a Jupyter notebook using a virtualenv environment in Python 3.\n",
    "\n",
    "```shell\n",
    "# If pip3 is not installed, install it\n",
    "sudo apt-get install python3-pip\n",
    "\n",
    "# Upgrade\n",
    "pip3 install --upgrade pip\n",
    "\n",
    "# If virtualenv is not installed, install it\n",
    "# Feel free to use either pip or pip3, doesn't matter\n",
    "pip install virtualenv\n",
    "\n",
    "# Move to the folder and create the virtualenv\n",
    "virtualenv -p python3 <my-virtualenv-name>\n",
    "\n",
    "# Activate the virtualenv\n",
    "source <my-virtualenv-name>/bin/activate\n",
    "\n",
    "# Install Jupyter, Pandas and Plotly\n",
    "pip3 install jupyter pandas plotly matplotlib\n",
    "\n",
    "# Start the notebook server (from withing the folder with the virtualenv folder)\n",
    "jupyter notebook\n",
    "\n",
    "# Open a new notebook from the top-right button \"New\"\n",
    "\n",
    "```"
   ]
  },
  {
   "cell_type": "markdown",
   "metadata": {},
   "source": [
    "-----"
   ]
  },
  {
   "cell_type": "markdown",
   "metadata": {},
   "source": [
    "# Jupyter-notebook"
   ]
  },
  {
   "cell_type": "markdown",
   "metadata": {},
   "source": [
    "## Modal editor"
   ]
  },
  {
   "cell_type": "markdown",
   "metadata": {},
   "source": [
    "Jupyter notebook has a modal user interface. This means that the keyboard does different things depending on which mode the notebook is in. There are two modes:\n",
    "- **Edit mode**: indicated by a green cell border and a prompt showing in the editor area. You can type into the cell, like a normal text editor. Enter to edit mode by pressing **`Enter`** or using the mouse to `click` on a cell’s editor area."
   ]
  },
  {
   "attachments": {
    "edit_mode.png": {
     "image/png": "[encoded data removed]"
    }
   },
   "cell_type": "markdown",
   "metadata": {},
   "source": [
    "![edit_mode.png](attachment:edit_mode.png)"
   ]
  },
  {
   "cell_type": "markdown",
   "metadata": {},
   "source": [
    "- **Command mode**: indicated by a grey cell border with a blue left margin. You are able to edit the notebook as a whole, and the keyboard is mapped to a set of shortcuts that let you perform notebook and cell actions efficiently.  Enter command mode by pressing **`Esc`** or using the mouse to `click` outside a cell’s editor area"
   ]
  },
  {
   "attachments": {
    "command_mode.png": {
     "image/png": "[encoded data removed]"
    }
   },
   "cell_type": "markdown",
   "metadata": {},
   "source": [
    "![command_mode.png](attachment:command_mode.png)"
   ]
  },
  {
   "cell_type": "markdown",
   "metadata": {},
   "source": [
    "## Export the notebook"
   ]
  },
  {
   "cell_type": "markdown",
   "metadata": {},
   "source": [
    "- Notebook (.ipynb)\n",
    "- Executable Script (.py)\n",
    "- HTML (.html)"
   ]
  },
  {
   "cell_type": "markdown",
   "metadata": {},
   "source": [
    "## Command mode"
   ]
  },
  {
   "cell_type": "markdown",
   "metadata": {},
   "source": [
    "Basic navigation: \n",
    "- **`enter`**: edit a cell\n",
    "- **`shift`+`enter`**: run the cell\n",
    "- **`up`** / `k`: move to the previous cell\n",
    "- **`down`** / `j`: move to next cell\n",
    "\n",
    "Saving the notebook: \n",
    "- **`s`**: save the notebook\n",
    "\n",
    "Change cell types: \n",
    "- **`y`**: change to code cell\n",
    "- **`m`**: change to text cell\n",
    "- `1` - `6`: change to text cell title 1 - 6\n",
    "\n",
    "Cell creation: \n",
    "- **`a`**: create a cell above\n",
    "- **`b`**: create a cell below\n",
    "\n",
    "Cell editing: \n",
    "- **`x`**: cut a cell\n",
    "- **`c`**: copy a cell\n",
    "- **`v`**: paste a cell\n",
    "- **`z`**: undo cell deletion\n",
    "\n",
    "Kernel operations: \n",
    "- `i` `i` : interrupt the kernel\n",
    "- `0` `0`: restart the kernel "
   ]
  },
  {
   "cell_type": "markdown",
   "metadata": {},
   "source": [
    "## Edit mode"
   ]
  },
  {
   "cell_type": "markdown",
   "metadata": {},
   "source": [
    "There are two types of cells:\n",
    "- **Code cells**: to write and run code. Code will be executed when you run the cell\n",
    "- **Text cells**: to write titles, information, show images, ... Text will be formatted in markdown when you run the cell\n",
    "\n",
    "To run a cell press **`shift`+`enter`**\n",
    "\n",
    "Keywoard shortcuts to edit the text / code of a cell:\n",
    "- **`x`**: cut text\n",
    "- **`c`**: copy text\n",
    "- **`v`**: paste text\n",
    "- **`z`**: undo previous action\n",
    "- `multicursor` editing is available"
   ]
  },
  {
   "cell_type": "markdown",
   "metadata": {},
   "source": [
    "### Code cells"
   ]
  },
  {
   "cell_type": "markdown",
   "metadata": {},
   "source": [
    "The jupyter notebook is capable of running code in a wide range of languages. However, each notebook is associated with a single kernel. This notebook is associated with the IPython kernel, therefore runs Python code."
   ]
  },
  {
   "cell_type": "code",
   "execution_count": 1,
   "metadata": {},
   "outputs": [],
   "source": [
    "a = 10"
   ]
  },
  {
   "cell_type": "code",
   "execution_count": 2,
   "metadata": {},
   "outputs": [
    {
     "name": "stdout",
     "output_type": "stream",
     "text": [
      "10\n"
     ]
    }
   ],
   "source": [
    "print(a)"
   ]
  },
  {
   "cell_type": "markdown",
   "metadata": {},
   "source": [
    "#### Getting help"
   ]
  },
  {
   "cell_type": "code",
   "execution_count": 3,
   "metadata": {},
   "outputs": [],
   "source": [
    "? print()"
   ]
  },
  {
   "cell_type": "markdown",
   "metadata": {},
   "source": [
    "#### Managing the Kernel"
   ]
  },
  {
   "cell_type": "markdown",
   "metadata": {},
   "source": [
    "Code is run in a separate process called the Kernel. The Kernel can be interrupted or restarted with the buttons or the keywoard shortcuts"
   ]
  },
  {
   "cell_type": "markdown",
   "metadata": {},
   "source": [
    "#### Stdout and stderr"
   ]
  },
  {
   "cell_type": "markdown",
   "metadata": {},
   "source": [
    "The stdout and stderr streams are displayed as text in the output area."
   ]
  },
  {
   "cell_type": "code",
   "execution_count": 4,
   "metadata": {},
   "outputs": [
    {
     "name": "stdout",
     "output_type": "stream",
     "text": [
      "hi, stdout\n"
     ]
    }
   ],
   "source": [
    "print(\"hi, stdout\")"
   ]
  },
  {
   "cell_type": "code",
   "execution_count": 5,
   "metadata": {},
   "outputs": [
    {
     "name": "stderr",
     "output_type": "stream",
     "text": [
      "hi, stderr\n"
     ]
    }
   ],
   "source": [
    "import sys\n",
    "\n",
    "print('hi, stderr', file=sys.stderr)"
   ]
  },
  {
   "cell_type": "markdown",
   "metadata": {},
   "source": [
    "All output is displayed asynchronously as it is generated in the Kernel. If you execute the next cell, you will see the output one piece at a time, not all at the end."
   ]
  },
  {
   "cell_type": "code",
   "execution_count": 6,
   "metadata": {},
   "outputs": [
    {
     "name": "stdout",
     "output_type": "stream",
     "text": [
      "0\n",
      "1\n",
      "2\n",
      "3\n",
      "4\n",
      "5\n",
      "6\n",
      "7\n"
     ]
    }
   ],
   "source": [
    "import time, sys\n",
    "for i in range(8):\n",
    "    print(i)\n",
    "    time.sleep(0.1)"
   ]
  },
  {
   "cell_type": "markdown",
   "metadata": {},
   "source": [
    "To better handle large outputs, the output area can be collapsed. Run the following cell and then single- or double- click on the active area to the left of the output:"
   ]
  },
  {
   "cell_type": "code",
   "execution_count": 7,
   "metadata": {
    "scrolled": true
   },
   "outputs": [
    {
     "name": "stdout",
     "output_type": "stream",
     "text": [
      "0\n",
      "1\n",
      "2\n",
      "3\n",
      "4\n",
      "5\n",
      "6\n",
      "7\n",
      "8\n",
      "9\n",
      "10\n",
      "11\n",
      "12\n",
      "13\n",
      "14\n",
      "15\n",
      "16\n",
      "17\n",
      "18\n",
      "19\n",
      "20\n",
      "21\n",
      "22\n",
      "23\n",
      "24\n",
      "25\n",
      "26\n",
      "27\n",
      "28\n",
      "29\n",
      "30\n",
      "31\n",
      "32\n",
      "33\n",
      "34\n",
      "35\n",
      "36\n",
      "37\n",
      "38\n",
      "39\n",
      "40\n",
      "41\n",
      "42\n",
      "43\n",
      "44\n",
      "45\n",
      "46\n",
      "47\n",
      "48\n",
      "49\n"
     ]
    }
   ],
   "source": [
    "for i in range(50):\n",
    "    print(i)"
   ]
  },
  {
   "cell_type": "markdown",
   "metadata": {},
   "source": [
    "#### IPython Magic Commands"
   ]
  },
  {
   "cell_type": "markdown",
   "metadata": {},
   "source": [
    "**%who** lists all variables of global scope\n",
    "\n",
    "**%%time cell** will give you information about a single run of the code in your cell.<br>\n",
    "**%%timeit statement** runs the statement 100,000 times and provides the mean of the fastest three times.\n",
    "\n",
    "**%%writefile file** magic saves the contents of that cell to an external file<br>\n",
    "**%pycat file** shows you in a popup the syntax highlighted contents of an external file.\n",
    "\n",
    "**%run script.py** executes python code from notebook or script\n",
    "\n",
    "**%%python2** runs another kernel (python2, bash, ruby, perl, ...)\n",
    "\n",
    "**%matplotlib inline** shows matplotlib plots in the notebook (like pandas)"
   ]
  },
  {
   "cell_type": "markdown",
   "metadata": {},
   "source": [
    "### IPython Shell Commands"
   ]
  },
  {
   "cell_type": "code",
   "execution_count": 8,
   "metadata": {},
   "outputs": [
    {
     "name": "stdout",
     "output_type": "stream",
     "text": [
      "\u001b[0m\u001b[01;32m1.jupyter.ipynb\u001b[0m*          \u001b[01;32m4.plotly.ipynb\u001b[0m*             \u001b[01;35mpython-logo.png\u001b[0m  \u001b[01;34mvenv\u001b[0m/\r\n",
      "\u001b[01;32m2.pandas_intro.ipynb\u001b[0m*     cargos_targetas_black.xlsx  README.md\r\n",
      "\u001b[01;32m3.pandas_advanced.ipynb\u001b[0m*  \u001b[01;34mimages\u001b[0m/                     tarjetas.csv\r\n"
     ]
    }
   ],
   "source": [
    "ls"
   ]
  },
  {
   "cell_type": "markdown",
   "metadata": {},
   "source": [
    "### Text cells"
   ]
  },
  {
   "cell_type": "markdown",
   "metadata": {},
   "source": [
    "Text can be added to Jupyter Notebooks using **Markdown** cells. You can change the cell type to Markdown by using the `Cell` menu, the toolbar, or the key shortcut `m`. Markdown is a popular markup language that is a superset of HTML"
   ]
  },
  {
   "cell_type": "markdown",
   "metadata": {},
   "source": [
    "You can make text *italic* or **bold**.\n",
    "\n",
    "You can build nested itemized or enumerated **lists**:\n",
    "\n",
    "- One\n",
    "    - Sublist\n",
    "        - This\n",
    "               \n",
    "Now another list:\n",
    "1. Here we go\n",
    "    1. Sublist\n",
    "    2. Sublist\n",
    "2. There we go\n",
    "3. Now this\n",
    "\n",
    "You can add **horizontal rules**:\n",
    "\n",
    "-----\n",
    "\n",
    "\n",
    "Here is a **blockquote**:\n",
    "\n",
    "> Beautiful is better than ugly. Explicit is better than implicit. Simple is better than complex. Complex is better than complicated. Flat is better than nested. Sparse is better than dense. Readability counts. Special cases aren’t special enough to break the rules. Although practicality beats purity. Errors should never pass silently. Unless explicitly silenced. In the face of ambiguity, refuse the temptation to guess. There should be one– and preferably only one –obvious way to do it. Although that way may not be obvious at first unless you’re Dutch. Now is better than never. Although never is often better than right now. If the implementation is hard to explain, it’s a bad idea. If the implementation is easy to explain, it may be a good idea. Namespaces are one honking great idea – let’s do more of those!\n",
    "\n",
    "And shorthand for **links**:\n",
    "\n",
    "[Jupyter's website](http://jupyter.org/)\n",
    "\n",
    "**Headings**:\n",
    "\n",
    "# H1\n",
    "## H2\n",
    "### H3\n",
    "#### H4\n",
    "##### H5\n",
    "###### H6\n",
    "\n",
    "You can **embed code** meant for illustration instead of execution in Python:\n",
    "\n",
    "```python\n",
    "def square(x):\n",
    "    return x**2\n",
    "```\n",
    "\n",
    "**Inline expressions** can be added by surrounding the **LaTeX** code with $:\n",
    "\n",
    "$-b \\pm \\sqrt{b^2 - 4ac} \\over 2a$\n",
    "\n",
    "And a **table** like this:\n",
    "\n",
    "| This | is   |\n",
    "|------|------|\n",
    "|   a  | table|\n",
    "\n",
    "If you have **local files** in your Notebook directory, you can refer to these files in Markdown cells directly:\n",
    "\n",
    "![python-logo](python-logo.png)"
   ]
  },
  {
   "cell_type": "markdown",
   "metadata": {},
   "source": [
    "## Learn more\n",
    "[Jupyter Notebook documentation](https://jupyter-notebook.readthedocs.io/en/stable/notebook.html)<br/>\n",
    "[Markdown for Jupyter notebooks cheatsheet\n",
    "](https://medium.com/ibm-data-science-experience/markdown-for-jupyter-notebooks-cheatsheet-386c05aeebed)<br/>\n",
    "[JupyterHub documentation](https://jupyterhub.readthedocs.io/en/stable/)<br/>\n",
    "[nbgrader documentation](https://nbgrader.readthedocs.io/en/latest)<br/>\n"
   ]
  }
 ],
 "metadata": {
  "hide_input": false,
  "kernelspec": {
   "display_name": "Python 3",
   "language": "python",
   "name": "python3"
  },
  "language_info": {
   "codemirror_mode": {
    "name": "ipython",
    "version": 3
   },
   "file_extension": ".py",
   "mimetype": "text/x-python",
   "name": "python",
   "nbconvert_exporter": "python",
   "pygments_lexer": "ipython3",
   "version": "3.7.0"
  },
  "toc": {
   "nav_menu": {},
   "number_sections": false,
   "sideBar": true,
   "skip_h1_title": false,
   "toc_cell": true,
   "toc_position": {
    "height": "1437.5px",
    "left": "0px",
    "right": "1238.06982421875px",
    "top": "66.48896789550781px",
    "width": "267.8125px"
   },
   "toc_section_display": "block",
   "toc_window_display": true
  },
  "varInspector": {
   "cols": {
    "lenName": 16,
    "lenType": 16,
    "lenVar": 40
   },
   "kernels_config": {
    "python": {
     "delete_cmd_postfix": "",
     "delete_cmd_prefix": "del ",
     "library": "var_list.py",
     "varRefreshCmd": "print(var_dic_list())"
    },
    "r": {
     "delete_cmd_postfix": ") ",
     "delete_cmd_prefix": "rm(",
     "library": "var_list.r",
     "varRefreshCmd": "cat(var_dic_list()) "
    }
   },
   "types_to_exclude": [
    "module",
    "function",
    "builtin_function_or_method",
    "instance",
    "_Feature"
   ],
   "window_display": false
  }
 },
 "nbformat": 4,
 "nbformat_minor": 2
}
