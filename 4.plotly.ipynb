{
 "cells": [
  {
   "attachments": {},
   "cell_type": "markdown",
   "metadata": {},
   "source": [
    "# Data analysis with Plotly\n",
    "#### PyLadiesBcn / PyDay 2018\n"
   ]
  },
  {
   "cell_type": "code",
   "execution_count": 5,
   "metadata": {},
   "outputs": [],
   "source": [
    "import pandas as pd\n",
    "import numpy as np\n",
    "\n",
    "\n",
    "df = pd.read_csv(\"tarjetas.csv\")\n",
    "\n",
    "df_summary = pd.DataFrame(df.groupby('nombre').actividad.count())\n",
    "\n",
    "df_summary['importe_media'] = df.groupby('nombre').importe.mean()\n",
    "df_summary['importe_max'] = df.groupby('nombre').importe.max()\n",
    "df_summary['importe_min'] = df.groupby('nombre').importe.min()\n",
    "df_summary['importe_total'] = df.groupby('nombre').importe.sum()\n",
    "\n",
    "df_summary = df_summary.reset_index()"
   ]
  },
  {
   "cell_type": "markdown",
   "metadata": {},
   "source": [
    "# 4. Plotly"
   ]
  },
  {
   "cell_type": "markdown",
   "metadata": {},
   "source": [
    "Plotly's Python library is free and open source! [Get started](https://plot.ly/python/getting-started/) by downloading the client and [reading the primer](https://plot.ly/python/getting-started/). \n",
    "\n",
    "You can set up Plotly to work in [online](https://plot.ly/python/getting-started/#initialization-for-online-plotting) or [offline](https://plot.ly/python/getting-started/#initialization-for-offline-plotting) mode, or in [jupyter notebooks](https://plot.ly/python/getting-started/#start-plotting-online). \n",
    "\n",
    "We also have a quick-reference [cheatsheet](https://images.plot.ly/plotly-documentation/images/python_cheat_sheet.pdf?_ga=2.51845101.559673998.1542652181-1373837997.1542293363) (new!) to help you get started!"
   ]
  },
  {
   "cell_type": "markdown",
   "metadata": {},
   "source": [
    "## Configuring Plotly to work offline"
   ]
  },
  {
   "cell_type": "markdown",
   "metadata": {},
   "source": [
    "Source: https://plot.ly/python/getting-started/#initialization-for-offline-plotting"
   ]
  },
  {
   "cell_type": "code",
   "execution_count": 6,
   "metadata": {},
   "outputs": [
    {
     "ename": "ModuleNotFoundError",
     "evalue": "No module named 'plotly'",
     "output_type": "error",
     "traceback": [
      "\u001b[1;31m---------------------------------------------------------------------------\u001b[0m",
      "\u001b[1;31mModuleNotFoundError\u001b[0m                       Traceback (most recent call last)",
      "\u001b[1;32m<ipython-input-6-920b0284b393>\u001b[0m in \u001b[0;36m<module>\u001b[1;34m()\u001b[0m\n\u001b[1;32m----> 1\u001b[1;33m \u001b[1;32mimport\u001b[0m \u001b[0mplotly\u001b[0m\u001b[1;33m\u001b[0m\u001b[0m\n\u001b[0m\u001b[0;32m      2\u001b[0m \u001b[1;32mfrom\u001b[0m \u001b[0mplotly\u001b[0m\u001b[1;33m.\u001b[0m\u001b[0moffline\u001b[0m \u001b[1;32mimport\u001b[0m \u001b[0minit_notebook_mode\u001b[0m\u001b[1;33m,\u001b[0m \u001b[0miplot\u001b[0m\u001b[1;33m\u001b[0m\u001b[0m\n\u001b[0;32m      3\u001b[0m \u001b[1;32mimport\u001b[0m \u001b[0mplotly\u001b[0m\u001b[1;33m.\u001b[0m\u001b[0mplotly\u001b[0m \u001b[1;32mas\u001b[0m \u001b[0mpy\u001b[0m\u001b[1;33m\u001b[0m\u001b[0m\n\u001b[0;32m      4\u001b[0m \u001b[1;32mimport\u001b[0m \u001b[0mplotly\u001b[0m\u001b[1;33m.\u001b[0m\u001b[0mgraph_objs\u001b[0m \u001b[1;32mas\u001b[0m \u001b[0mgo\u001b[0m\u001b[1;33m\u001b[0m\u001b[0m\n\u001b[0;32m      5\u001b[0m \u001b[0minit_notebook_mode\u001b[0m\u001b[1;33m(\u001b[0m\u001b[1;33m)\u001b[0m\u001b[1;33m\u001b[0m\u001b[0m\n",
      "\u001b[1;31mModuleNotFoundError\u001b[0m: No module named 'plotly'"
     ]
    }
   ],
   "source": [
    "import plotly\n",
    "from plotly.offline import init_notebook_mode, iplot\n",
    "import plotly.plotly as py\n",
    "import plotly.graph_objs as go\n",
    "init_notebook_mode()"
   ]
  },
  {
   "cell_type": "markdown",
   "metadata": {},
   "source": [
    "Plotly Offline allows you to create graphs offline and save them locally. There are also two methods for plotting offline: plotly.offline.plot() and plotly.offline.iplot().\n",
    "\n",
    "- Use plotly.offline.plot() to create and standalone HTML that is saved locally and opened inside your web browser.\n",
    "- Use plotly.offline.iplot() when working offline in a Jupyter Notebook to display the plot in the notebook."
   ]
  },
  {
   "cell_type": "markdown",
   "metadata": {},
   "source": [
    "## Bar plot. Money spent by each person, descending order"
   ]
  },
  {
   "cell_type": "code",
   "execution_count": 3,
   "metadata": {},
   "outputs": [
    {
     "data": {
      "application/vnd.plotly.v1+json": {
       "data": [
        {
         "type": "bar",
         "uid": "3f2a9a9e-c4f8-4959-a15d-19127e277a14",
         "x": [
          "Alberto Recarte García Andrade",
          "Alejandro Couceiro Ojeda",
          "Angel Rizaldos González",
          "Antonio Cámara Eguinoa",
          "Antonio Rey de Viñas Sánchez-Majestad",
          "Antonio Romero Lázaro",
          "Arturo Luis Fernández Álvarez",
          "Beltrán Gutiérrez Moliner",
          "Carlos María Martínez Martínez",
          "Carlos Vela García",
          "Carmen Contreras Gómez",
          "Cándido Cerón Escudero",
          "Domingo Navalmoral Sánchez",
          "Enrique de la Torre Martínez",
          "Estanislao Rodríguez-Ponga Salamanca",
          "Fernando Serrano Antón",
          "Francisco Baquero Noriega",
          "Francisco Javier López Madrid",
          "Francisco José Moure Bourio",
          "Francisco José Pérez Fernández",
          "Gabriel María Moreno Flores",
          "Gerardo Díaz Ferrán",
          "Gonzalo Martín Pascual",
          "Guillermo Ricardo Marcos Guerrero",
          "Ignacio Varela Díaz",
          "Ignacio de Navasques Cobián",
          "Ignacio del Río García de Sola",
          "Ildefonso José Sánchez Barcoj",
          "Javier de Miguel Sánchez",
          "Jesús Pedroche Nieto",
          "Joaquín García Pontes",
          "Jorge Gómez Moreno",
          "Jorge Rábago Juan Aracil",
          "José Acosta Cubero",
          "José Antonio Moral Santín",
          "José Caballero Domínguez",
          "José Carlos Contreras Gómez",
          "José Luis Acero Benedicto",
          "José Manuel Fernández Norniella",
          "José María Arteta Vico",
          "José María Buenaventura Zabala",
          "José María Fernández del Río",
          "José María García Alonso",
          "José María de la Riva Amez",
          "José Nieto Antolinos",
          "José Ricardo Martínez Castro",
          "Juan Emilio Iranzo Martín",
          "Juan Gómez Castañeda",
          "Juan José Azcona Olondriz",
          "Juan Manuel Astorqui Portera",
          "Luis Blasco Bosqued",
          "Luis Gabarda Durán",
          "Manuel José Rodríguez González",
          "Maria Mercedes de la Merced Monge",
          "Mariano Pérez Claver",
          "María Carmen Cafranga Cavestany",
          "María Elena Gil García",
          "María Enedina Alvárez Gayol",
          "Matías Amat Roca",
          "Mercedes Rojo Izquierdo",
          "Miguel Blesa de la Parra",
          "Miguel Corsini Freese",
          "Miguel Muñiz de las Cuevas",
          "Miguel Ángel Abejón Resa",
          "Miguel Ángel Araujo Serrano",
          "Pablo Abejas Juárez",
          "Pedro Bedia Pérez",
          "Pedro Bugidos Garay",
          "Rafael Darío Fernández Yruegas Moro",
          "Rafael Eduardo Torres Posada",
          "Rafael Pradillo Moreno de la Santa",
          "Rafael Spottorno Díaz Caro",
          "Ramón Espinar Gallego",
          "Ramón Ferraz Ricarte",
          "Ramón Martínez Vilches",
          "Ricardo Morado Iglesias",
          "Ricardo Romero de Tejada y Picatoste",
          "Rodolfo Benito Valenciano",
          "Rodrigo de Rato Figaredo",
          "Rubén Cruz Orive",
          "Santiago Javier Sánchez Carlos",
          "Virgilio Zapatero Gómez",
          "Ángel Eugenio Gómez del Pulgar Perales"
         ],
         "y": [
          136504.01979711652,
          68494.49001079798,
          20176.310111999515,
          176165.88985168934,
          188755.95993174985,
          246857.29003089666,
          38776.57009112834,
          58022.19011211395,
          271900.70020470023,
          246248.54998099804,
          277204.30959892273,
          78059.6400679946,
          39162.57997131348,
          304818.36004787683,
          253961.80024883148,
          78009.29009151459,
          261817.27961683273,
          34807.81013274193,
          122275.64004543424,
          120746.69004631042,
          19724.729973316193,
          87984.5,
          128028.08005034924,
          130947.42993354797,
          35722.089973688126,
          191981.51993738487,
          18666.08986568451,
          572187.0001822859,
          170543.82994316518,
          131614.56014502048,
          18772.27996635437,
          98182.21007417142,
          8366.779998779302,
          61557.980052948,
          447769.72999584675,
          17635.089901447296,
          21816.980053454638,
          8847.760016202928,
          185100.98990792036,
          137617.8198683262,
          62932.210103988655,
          38714.2299759388,
          251.300003051758,
          204708.53992933035,
          17212.929990768433,
          44154.119932174675,
          46848.7900481224,
          125871.61998224258,
          97293.47009980679,
          287121.1996859014,
          51689.34013795853,
          134881.77009296417,
          37891.07001495362,
          284404.4203388989,
          354171.00031137466,
          173568.46002697945,
          71654.80017662048,
          47166.73007136583,
          429272.15964990854,
          118382.80997228621,
          423068.4894589782,
          46970.15999650955,
          19582.699971437454,
          106749.86979213357,
          208186.2101471424,
          245524.79988899827,
          77082.98003458977,
          106589.34008568525,
          68313.189950943,
          79076.35991257429,
          23582.76993370056,
          232152.82996499538,
          173999.17000071704,
          389450.34964954853,
          99899.3597638607,
          443999.18992996216,
          208471.23013848066,
          138766.65006175637,
          99041.08980542421,
          229750.49984669685,
          47152.36996173859,
          47134.93992322683,
          148204.44975483418
         ]
        }
       ],
       "layout": {}
      },
      "text/html": [
       "<div id=\"b77528be-ef71-4b59-beb4-b325a0ccbed8\" style=\"height: 525px; width: 100%;\" class=\"plotly-graph-div\"></div><script type=\"text/javascript\">require([\"plotly\"], function(Plotly) { window.PLOTLYENV=window.PLOTLYENV || {};window.PLOTLYENV.BASE_URL=\"https://plot.ly\";Plotly.newPlot(\"b77528be-ef71-4b59-beb4-b325a0ccbed8\", [{\"x\": [\"Alberto Recarte Garc\\u00eda Andrade\", \"Alejandro Couceiro Ojeda\", \"Angel Rizaldos Gonz\\u00e1lez\", \"Antonio C\\u00e1mara Eguinoa\", \"Antonio Rey de Vi\\u00f1as S\\u00e1nchez-Majestad\", \"Antonio Romero L\\u00e1zaro\", \"Arturo Luis Fern\\u00e1ndez \\u00c1lvarez\", \"Beltr\\u00e1n Guti\\u00e9rrez Moliner\", \"Carlos Mar\\u00eda Mart\\u00ednez Mart\\u00ednez\", \"Carlos Vela Garc\\u00eda\", \"Carmen Contreras G\\u00f3mez\", \"C\\u00e1ndido Cer\\u00f3n Escudero\", \"Domingo Navalmoral S\\u00e1nchez\", \"Enrique de la Torre Mart\\u00ednez\", \"Estanislao Rodr\\u00edguez-Ponga Salamanca\", \"Fernando Serrano Ant\\u00f3n\", \"Francisco Baquero Noriega\", \"Francisco Javier L\\u00f3pez Madrid\", \"Francisco Jos\\u00e9 Moure Bourio\", \"Francisco Jos\\u00e9 P\\u00e9rez Fern\\u00e1ndez\", \"Gabriel Mar\\u00eda Moreno Flores\", \"Gerardo D\\u00edaz Ferr\\u00e1n\", \"Gonzalo Mart\\u00edn Pascual\", \"Guillermo Ricardo Marcos Guerrero\", \"Ignacio Varela D\\u00edaz\", \"Ignacio de Navasques Cobi\\u00e1n\", \"Ignacio del R\\u00edo Garc\\u00eda de Sola\", \"Ildefonso Jos\\u00e9 S\\u00e1nchez Barcoj\", \"Javier de Miguel S\\u00e1nchez\", \"Jes\\u00fas Pedroche Nieto\", \"Joaqu\\u00edn Garc\\u00eda Pontes\", \"Jorge G\\u00f3mez Moreno\", \"Jorge R\\u00e1bago Juan Aracil\", \"Jos\\u00e9 Acosta Cubero\", \"Jos\\u00e9 Antonio Moral Sant\\u00edn\", \"Jos\\u00e9 Caballero Dom\\u00ednguez\", \"Jos\\u00e9 Carlos Contreras G\\u00f3mez\", \"Jos\\u00e9 Luis Acero Benedicto\", \"Jos\\u00e9 Manuel Fern\\u00e1ndez Norniella\", \"Jos\\u00e9 Mar\\u00eda Arteta Vico\", \"Jos\\u00e9 Mar\\u00eda Buenaventura Zabala\", \"Jos\\u00e9 Mar\\u00eda Fern\\u00e1ndez del R\\u00edo\", \"Jos\\u00e9 Mar\\u00eda Garc\\u00eda Alonso\", \"Jos\\u00e9 Mar\\u00eda de la Riva Amez\", \"Jos\\u00e9 Nieto Antolinos\", \"Jos\\u00e9 Ricardo Mart\\u00ednez Castro\", \"Juan Emilio Iranzo Mart\\u00edn\", \"Juan G\\u00f3mez Casta\\u00f1eda\", \"Juan Jos\\u00e9 Azcona Olondriz\", \"Juan Manuel Astorqui Portera\", \"Luis Blasco Bosqued\", \"Luis Gabarda Dur\\u00e1n\", \"Manuel Jos\\u00e9 Rodr\\u00edguez Gonz\\u00e1lez\", \"Maria Mercedes de la Merced Monge\", \"Mariano P\\u00e9rez Claver\", \"Mar\\u00eda Carmen Cafranga Cavestany\", \"Mar\\u00eda Elena Gil Garc\\u00eda\", \"Mar\\u00eda Enedina Alv\\u00e1rez Gayol\", \"Mat\\u00edas Amat Roca\", \"Mercedes Rojo Izquierdo\", \"Miguel Blesa de la Parra\", \"Miguel Corsini Freese\", \"Miguel Mu\\u00f1iz de las Cuevas\", \"Miguel \\u00c1ngel Abej\\u00f3n Resa\", \"Miguel \\u00c1ngel Araujo Serrano\", \"Pablo Abejas Ju\\u00e1rez\", \"Pedro Bedia P\\u00e9rez\", \"Pedro Bugidos Garay\", \"Rafael Dar\\u00edo Fern\\u00e1ndez Yruegas Moro\", \"Rafael Eduardo Torres Posada\", \"Rafael Pradillo Moreno de la Santa\", \"Rafael Spottorno D\\u00edaz Caro\", \"Ram\\u00f3n Espinar Gallego\", \"Ram\\u00f3n Ferraz Ricarte\", \"Ram\\u00f3n Mart\\u00ednez Vilches\", \"Ricardo Morado Iglesias\", \"Ricardo Romero de Tejada y Picatoste\", \"Rodolfo Benito Valenciano\", \"Rodrigo de Rato Figaredo\", \"Rub\\u00e9n Cruz Orive\", \"Santiago Javier S\\u00e1nchez Carlos\", \"Virgilio Zapatero G\\u00f3mez\", \"\\u00c1ngel Eugenio G\\u00f3mez del Pulgar Perales\"], \"type\": \"bar\", \"y\": [136504.01979711652, 68494.49001079798, 20176.310111999515, 176165.88985168934, 188755.95993174985, 246857.29003089666, 38776.57009112834, 58022.19011211395, 271900.70020470023, 246248.54998099804, 277204.30959892273, 78059.6400679946, 39162.57997131348, 304818.36004787683, 253961.80024883148, 78009.29009151459, 261817.27961683273, 34807.81013274193, 122275.64004543424, 120746.69004631042, 19724.729973316193, 87984.5, 128028.08005034924, 130947.42993354797, 35722.089973688126, 191981.51993738487, 18666.08986568451, 572187.0001822859, 170543.82994316518, 131614.56014502048, 18772.27996635437, 98182.21007417142, 8366.779998779302, 61557.980052948, 447769.72999584675, 17635.089901447296, 21816.980053454638, 8847.760016202928, 185100.98990792036, 137617.8198683262, 62932.210103988655, 38714.2299759388, 251.300003051758, 204708.53992933035, 17212.929990768433, 44154.119932174675, 46848.7900481224, 125871.61998224258, 97293.47009980679, 287121.1996859014, 51689.34013795853, 134881.77009296417, 37891.07001495362, 284404.4203388989, 354171.00031137466, 173568.46002697945, 71654.80017662048, 47166.73007136583, 429272.15964990854, 118382.80997228621, 423068.4894589782, 46970.15999650955, 19582.699971437454, 106749.86979213357, 208186.2101471424, 245524.79988899827, 77082.98003458977, 106589.34008568525, 68313.189950943, 79076.35991257429, 23582.76993370056, 232152.82996499538, 173999.17000071704, 389450.34964954853, 99899.3597638607, 443999.18992996216, 208471.23013848066, 138766.65006175637, 99041.08980542421, 229750.49984669685, 47152.36996173859, 47134.93992322683, 148204.44975483418], \"uid\": \"66f6a8ec-6979-43cf-8a6b-fe87609207bd\"}], {}, {\"showLink\": true, \"linkText\": \"Export to plot.ly\"})});</script><script type=\"text/javascript\">window.addEventListener(\"resize\", function(){window._Plotly.Plots.resize(document.getElementById(\"b77528be-ef71-4b59-beb4-b325a0ccbed8\"));});</script>"
      ],
      "text/vnd.plotly.v1+html": [
       "<div id=\"b77528be-ef71-4b59-beb4-b325a0ccbed8\" style=\"height: 525px; width: 100%;\" class=\"plotly-graph-div\"></div><script type=\"text/javascript\">require([\"plotly\"], function(Plotly) { window.PLOTLYENV=window.PLOTLYENV || {};window.PLOTLYENV.BASE_URL=\"https://plot.ly\";Plotly.newPlot(\"b77528be-ef71-4b59-beb4-b325a0ccbed8\", [{\"x\": [\"Alberto Recarte Garc\\u00eda Andrade\", \"Alejandro Couceiro Ojeda\", \"Angel Rizaldos Gonz\\u00e1lez\", \"Antonio C\\u00e1mara Eguinoa\", \"Antonio Rey de Vi\\u00f1as S\\u00e1nchez-Majestad\", \"Antonio Romero L\\u00e1zaro\", \"Arturo Luis Fern\\u00e1ndez \\u00c1lvarez\", \"Beltr\\u00e1n Guti\\u00e9rrez Moliner\", \"Carlos Mar\\u00eda Mart\\u00ednez Mart\\u00ednez\", \"Carlos Vela Garc\\u00eda\", \"Carmen Contreras G\\u00f3mez\", \"C\\u00e1ndido Cer\\u00f3n Escudero\", \"Domingo Navalmoral S\\u00e1nchez\", \"Enrique de la Torre Mart\\u00ednez\", \"Estanislao Rodr\\u00edguez-Ponga Salamanca\", \"Fernando Serrano Ant\\u00f3n\", \"Francisco Baquero Noriega\", \"Francisco Javier L\\u00f3pez Madrid\", \"Francisco Jos\\u00e9 Moure Bourio\", \"Francisco Jos\\u00e9 P\\u00e9rez Fern\\u00e1ndez\", \"Gabriel Mar\\u00eda Moreno Flores\", \"Gerardo D\\u00edaz Ferr\\u00e1n\", \"Gonzalo Mart\\u00edn Pascual\", \"Guillermo Ricardo Marcos Guerrero\", \"Ignacio Varela D\\u00edaz\", \"Ignacio de Navasques Cobi\\u00e1n\", \"Ignacio del R\\u00edo Garc\\u00eda de Sola\", \"Ildefonso Jos\\u00e9 S\\u00e1nchez Barcoj\", \"Javier de Miguel S\\u00e1nchez\", \"Jes\\u00fas Pedroche Nieto\", \"Joaqu\\u00edn Garc\\u00eda Pontes\", \"Jorge G\\u00f3mez Moreno\", \"Jorge R\\u00e1bago Juan Aracil\", \"Jos\\u00e9 Acosta Cubero\", \"Jos\\u00e9 Antonio Moral Sant\\u00edn\", \"Jos\\u00e9 Caballero Dom\\u00ednguez\", \"Jos\\u00e9 Carlos Contreras G\\u00f3mez\", \"Jos\\u00e9 Luis Acero Benedicto\", \"Jos\\u00e9 Manuel Fern\\u00e1ndez Norniella\", \"Jos\\u00e9 Mar\\u00eda Arteta Vico\", \"Jos\\u00e9 Mar\\u00eda Buenaventura Zabala\", \"Jos\\u00e9 Mar\\u00eda Fern\\u00e1ndez del R\\u00edo\", \"Jos\\u00e9 Mar\\u00eda Garc\\u00eda Alonso\", \"Jos\\u00e9 Mar\\u00eda de la Riva Amez\", \"Jos\\u00e9 Nieto Antolinos\", \"Jos\\u00e9 Ricardo Mart\\u00ednez Castro\", \"Juan Emilio Iranzo Mart\\u00edn\", \"Juan G\\u00f3mez Casta\\u00f1eda\", \"Juan Jos\\u00e9 Azcona Olondriz\", \"Juan Manuel Astorqui Portera\", \"Luis Blasco Bosqued\", \"Luis Gabarda Dur\\u00e1n\", \"Manuel Jos\\u00e9 Rodr\\u00edguez Gonz\\u00e1lez\", \"Maria Mercedes de la Merced Monge\", \"Mariano P\\u00e9rez Claver\", \"Mar\\u00eda Carmen Cafranga Cavestany\", \"Mar\\u00eda Elena Gil Garc\\u00eda\", \"Mar\\u00eda Enedina Alv\\u00e1rez Gayol\", \"Mat\\u00edas Amat Roca\", \"Mercedes Rojo Izquierdo\", \"Miguel Blesa de la Parra\", \"Miguel Corsini Freese\", \"Miguel Mu\\u00f1iz de las Cuevas\", \"Miguel \\u00c1ngel Abej\\u00f3n Resa\", \"Miguel \\u00c1ngel Araujo Serrano\", \"Pablo Abejas Ju\\u00e1rez\", \"Pedro Bedia P\\u00e9rez\", \"Pedro Bugidos Garay\", \"Rafael Dar\\u00edo Fern\\u00e1ndez Yruegas Moro\", \"Rafael Eduardo Torres Posada\", \"Rafael Pradillo Moreno de la Santa\", \"Rafael Spottorno D\\u00edaz Caro\", \"Ram\\u00f3n Espinar Gallego\", \"Ram\\u00f3n Ferraz Ricarte\", \"Ram\\u00f3n Mart\\u00ednez Vilches\", \"Ricardo Morado Iglesias\", \"Ricardo Romero de Tejada y Picatoste\", \"Rodolfo Benito Valenciano\", \"Rodrigo de Rato Figaredo\", \"Rub\\u00e9n Cruz Orive\", \"Santiago Javier S\\u00e1nchez Carlos\", \"Virgilio Zapatero G\\u00f3mez\", \"\\u00c1ngel Eugenio G\\u00f3mez del Pulgar Perales\"], \"type\": \"bar\", \"y\": [136504.01979711652, 68494.49001079798, 20176.310111999515, 176165.88985168934, 188755.95993174985, 246857.29003089666, 38776.57009112834, 58022.19011211395, 271900.70020470023, 246248.54998099804, 277204.30959892273, 78059.6400679946, 39162.57997131348, 304818.36004787683, 253961.80024883148, 78009.29009151459, 261817.27961683273, 34807.81013274193, 122275.64004543424, 120746.69004631042, 19724.729973316193, 87984.5, 128028.08005034924, 130947.42993354797, 35722.089973688126, 191981.51993738487, 18666.08986568451, 572187.0001822859, 170543.82994316518, 131614.56014502048, 18772.27996635437, 98182.21007417142, 8366.779998779302, 61557.980052948, 447769.72999584675, 17635.089901447296, 21816.980053454638, 8847.760016202928, 185100.98990792036, 137617.8198683262, 62932.210103988655, 38714.2299759388, 251.300003051758, 204708.53992933035, 17212.929990768433, 44154.119932174675, 46848.7900481224, 125871.61998224258, 97293.47009980679, 287121.1996859014, 51689.34013795853, 134881.77009296417, 37891.07001495362, 284404.4203388989, 354171.00031137466, 173568.46002697945, 71654.80017662048, 47166.73007136583, 429272.15964990854, 118382.80997228621, 423068.4894589782, 46970.15999650955, 19582.699971437454, 106749.86979213357, 208186.2101471424, 245524.79988899827, 77082.98003458977, 106589.34008568525, 68313.189950943, 79076.35991257429, 23582.76993370056, 232152.82996499538, 173999.17000071704, 389450.34964954853, 99899.3597638607, 443999.18992996216, 208471.23013848066, 138766.65006175637, 99041.08980542421, 229750.49984669685, 47152.36996173859, 47134.93992322683, 148204.44975483418], \"uid\": \"66f6a8ec-6979-43cf-8a6b-fe87609207bd\"}], {}, {\"showLink\": true, \"linkText\": \"Export to plot.ly\"})});</script><script type=\"text/javascript\">window.addEventListener(\"resize\", function(){window._Plotly.Plots.resize(document.getElementById(\"b77528be-ef71-4b59-beb4-b325a0ccbed8\"));});</script>"
      ]
     },
     "metadata": {},
     "output_type": "display_data"
    }
   ],
   "source": [
    "data = [go.Bar(x=df_summary.nombre,\n",
    "               y=df_summary.importe_total)]\n",
    "\n",
    "iplot(data)"
   ]
  },
  {
   "cell_type": "markdown",
   "metadata": {},
   "source": [
    "That is a lot of information! Let's plot just the first 20, horizontally:"
   ]
  },
  {
   "cell_type": "code",
   "execution_count": 4,
   "metadata": {},
   "outputs": [
    {
     "data": {
      "application/vnd.plotly.v1+json": {
       "data": [
        {
         "orientation": "h",
         "type": "bar",
         "uid": "ee04fb7e-d318-4f09-9eee-698ff511026a",
         "x": [
          136504.01979711652,
          68494.49001079798,
          20176.310111999515,
          176165.88985168934,
          188755.95993174985,
          246857.29003089666,
          38776.57009112834,
          58022.19011211395,
          271900.70020470023,
          246248.54998099804,
          277204.30959892273,
          78059.6400679946,
          39162.57997131348,
          304818.36004787683,
          253961.80024883148,
          78009.29009151459,
          261817.27961683273,
          34807.81013274193,
          122275.64004543424,
          120746.69004631042
         ],
         "y": [
          "Alberto Recarte García Andrade",
          "Alejandro Couceiro Ojeda",
          "Angel Rizaldos González",
          "Antonio Cámara Eguinoa",
          "Antonio Rey de Viñas Sánchez-Majestad",
          "Antonio Romero Lázaro",
          "Arturo Luis Fernández Álvarez",
          "Beltrán Gutiérrez Moliner",
          "Carlos María Martínez Martínez",
          "Carlos Vela García",
          "Carmen Contreras Gómez",
          "Cándido Cerón Escudero",
          "Domingo Navalmoral Sánchez",
          "Enrique de la Torre Martínez",
          "Estanislao Rodríguez-Ponga Salamanca",
          "Fernando Serrano Antón",
          "Francisco Baquero Noriega",
          "Francisco Javier López Madrid",
          "Francisco José Moure Bourio",
          "Francisco José Pérez Fernández"
         ]
        }
       ],
       "layout": {
        "margin": {
         "b": 100,
         "l": 270,
         "pad": 4,
         "r": 50,
         "t": 100
        },
        "title": "Tarjetas Black",
        "xaxis": {
         "title": "€ stolen"
        },
        "yaxis": {
         "title": "Top 20 Gangsters"
        }
       }
      },
      "text/html": [
       "<div id=\"6e11fbd3-c1b5-4896-9781-8d76c4e641c8\" style=\"height: 525px; width: 100%;\" class=\"plotly-graph-div\"></div><script type=\"text/javascript\">require([\"plotly\"], function(Plotly) { window.PLOTLYENV=window.PLOTLYENV || {};window.PLOTLYENV.BASE_URL=\"https://plot.ly\";Plotly.newPlot(\"6e11fbd3-c1b5-4896-9781-8d76c4e641c8\", [{\"orientation\": \"h\", \"x\": [136504.01979711652, 68494.49001079798, 20176.310111999515, 176165.88985168934, 188755.95993174985, 246857.29003089666, 38776.57009112834, 58022.19011211395, 271900.70020470023, 246248.54998099804, 277204.30959892273, 78059.6400679946, 39162.57997131348, 304818.36004787683, 253961.80024883148, 78009.29009151459, 261817.27961683273, 34807.81013274193, 122275.64004543424, 120746.69004631042], \"type\": \"bar\", \"y\": [\"Alberto Recarte Garc\\u00eda Andrade\", \"Alejandro Couceiro Ojeda\", \"Angel Rizaldos Gonz\\u00e1lez\", \"Antonio C\\u00e1mara Eguinoa\", \"Antonio Rey de Vi\\u00f1as S\\u00e1nchez-Majestad\", \"Antonio Romero L\\u00e1zaro\", \"Arturo Luis Fern\\u00e1ndez \\u00c1lvarez\", \"Beltr\\u00e1n Guti\\u00e9rrez Moliner\", \"Carlos Mar\\u00eda Mart\\u00ednez Mart\\u00ednez\", \"Carlos Vela Garc\\u00eda\", \"Carmen Contreras G\\u00f3mez\", \"C\\u00e1ndido Cer\\u00f3n Escudero\", \"Domingo Navalmoral S\\u00e1nchez\", \"Enrique de la Torre Mart\\u00ednez\", \"Estanislao Rodr\\u00edguez-Ponga Salamanca\", \"Fernando Serrano Ant\\u00f3n\", \"Francisco Baquero Noriega\", \"Francisco Javier L\\u00f3pez Madrid\", \"Francisco Jos\\u00e9 Moure Bourio\", \"Francisco Jos\\u00e9 P\\u00e9rez Fern\\u00e1ndez\"], \"uid\": \"ee04fb7e-d318-4f09-9eee-698ff511026a\"}], {\"margin\": {\"b\": 100, \"t\": 100, \"pad\": 4, \"l\": 270, \"r\": 50}, \"title\": \"Tarjetas Black\", \"xaxis\": {\"title\": \"\\u20ac stolen\"}, \"yaxis\": {\"title\": \"Top 20 Gangsters\"}}, {\"showLink\": true, \"linkText\": \"Export to plot.ly\"})});</script><script type=\"text/javascript\">window.addEventListener(\"resize\", function(){window._Plotly.Plots.resize(document.getElementById(\"6e11fbd3-c1b5-4896-9781-8d76c4e641c8\"));});</script>"
      ],
      "text/vnd.plotly.v1+html": [
       "<div id=\"6e11fbd3-c1b5-4896-9781-8d76c4e641c8\" style=\"height: 525px; width: 100%;\" class=\"plotly-graph-div\"></div><script type=\"text/javascript\">require([\"plotly\"], function(Plotly) { window.PLOTLYENV=window.PLOTLYENV || {};window.PLOTLYENV.BASE_URL=\"https://plot.ly\";Plotly.newPlot(\"6e11fbd3-c1b5-4896-9781-8d76c4e641c8\", [{\"orientation\": \"h\", \"x\": [136504.01979711652, 68494.49001079798, 20176.310111999515, 176165.88985168934, 188755.95993174985, 246857.29003089666, 38776.57009112834, 58022.19011211395, 271900.70020470023, 246248.54998099804, 277204.30959892273, 78059.6400679946, 39162.57997131348, 304818.36004787683, 253961.80024883148, 78009.29009151459, 261817.27961683273, 34807.81013274193, 122275.64004543424, 120746.69004631042], \"type\": \"bar\", \"y\": [\"Alberto Recarte Garc\\u00eda Andrade\", \"Alejandro Couceiro Ojeda\", \"Angel Rizaldos Gonz\\u00e1lez\", \"Antonio C\\u00e1mara Eguinoa\", \"Antonio Rey de Vi\\u00f1as S\\u00e1nchez-Majestad\", \"Antonio Romero L\\u00e1zaro\", \"Arturo Luis Fern\\u00e1ndez \\u00c1lvarez\", \"Beltr\\u00e1n Guti\\u00e9rrez Moliner\", \"Carlos Mar\\u00eda Mart\\u00ednez Mart\\u00ednez\", \"Carlos Vela Garc\\u00eda\", \"Carmen Contreras G\\u00f3mez\", \"C\\u00e1ndido Cer\\u00f3n Escudero\", \"Domingo Navalmoral S\\u00e1nchez\", \"Enrique de la Torre Mart\\u00ednez\", \"Estanislao Rodr\\u00edguez-Ponga Salamanca\", \"Fernando Serrano Ant\\u00f3n\", \"Francisco Baquero Noriega\", \"Francisco Javier L\\u00f3pez Madrid\", \"Francisco Jos\\u00e9 Moure Bourio\", \"Francisco Jos\\u00e9 P\\u00e9rez Fern\\u00e1ndez\"], \"uid\": \"ee04fb7e-d318-4f09-9eee-698ff511026a\"}], {\"margin\": {\"b\": 100, \"t\": 100, \"pad\": 4, \"l\": 270, \"r\": 50}, \"title\": \"Tarjetas Black\", \"xaxis\": {\"title\": \"\\u20ac stolen\"}, \"yaxis\": {\"title\": \"Top 20 Gangsters\"}}, {\"showLink\": true, \"linkText\": \"Export to plot.ly\"})});</script><script type=\"text/javascript\">window.addEventListener(\"resize\", function(){window._Plotly.Plots.resize(document.getElementById(\"6e11fbd3-c1b5-4896-9781-8d76c4e641c8\"));});</script>"
      ]
     },
     "metadata": {},
     "output_type": "display_data"
    }
   ],
   "source": [
    "data = [go.Bar(x=df_summary.importe_total.head(20),\n",
    "               y=df_summary.nombre.head(20),\n",
    "              orientation='h')]\n",
    "\n",
    "layout = go.Layout(\n",
    "    margin = go.layout.Margin(\n",
    "        l=270,\n",
    "        r=50,\n",
    "        b=100,\n",
    "        t=100,\n",
    "        pad=4\n",
    "    ),\n",
    "    title=\"Tarjetas Black\", \n",
    "    yaxis={'title':'Top 20 Gangsters'}, \n",
    "    xaxis={'title':'€ stolen'},\n",
    ")\n",
    "       \n",
    "fig = go.Figure(data=data, layout=layout)\n",
    "\n",
    "iplot(fig)"
   ]
  },
  {
   "cell_type": "markdown",
   "metadata": {},
   "source": [
    "## Pie charts"
   ]
  },
  {
   "cell_type": "code",
   "execution_count": 5,
   "metadata": {},
   "outputs": [],
   "source": [
    "actividades_total = df.importe.sum()\n",
    "df_actividades = df.groupby('actividad').importe.sum().reset_index()\n",
    "df_actividades['percentage'] = df_actividades.importe / actividades_total *100"
   ]
  },
  {
   "cell_type": "code",
   "execution_count": 6,
   "metadata": {},
   "outputs": [],
   "source": [
    "labels = df.actividad.unique()\n",
    "values = df_actividades.percentage.values"
   ]
  },
  {
   "cell_type": "code",
   "execution_count": 7,
   "metadata": {},
   "outputs": [
    {
     "data": {
      "application/vnd.plotly.v1+json": {
       "data": [
        {
         "labels": [
          "ROPA",
          "HOTEL",
          "RESTAURANTE",
          "COCHE",
          "COMPRA BIENES",
          "TELECOM",
          "MISC",
          "AVION",
          "REGALOS",
          "SOCIAL",
          "DIRECT MARKETING",
          "LIBRERIA",
          "SALIDAS",
          "TREN",
          "SUPERMERCADO",
          "DEPORTE",
          "VIAJE",
          "HOGAR",
          "BUSINESS",
          "DUTYFREE",
          "BANCO",
          "IMAGEN",
          "COMPRA BIENES LUJO",
          "ESTETICA",
          "SALUD",
          "ESCUELA",
          "MUEBLES",
          "CASINO",
          "BEBIDAS",
          "BARCO",
          "TABACO",
          "CA$H",
          "ARTE",
          null,
          "SEGUROS",
          "AGRICULTURA",
          "FUNERARIAS"
         ],
         "type": "pie",
         "uid": "dfb57bcf-7f46-4c40-bd91-3a10949c1aee",
         "values": [
          0.0015499578359005855,
          0.052161501893843505,
          3.774990224606202,
          7.076961800684677,
          0.14070347688120036,
          0.03335602379222923,
          0.08870019050761012,
          10.424288008830583,
          0.08412849241605332,
          7.084542191188765,
          11.382950984169456,
          1.721183543094488,
          0.4324947303383795,
          0.293581832464185,
          0.25440135525441676,
          0.12668516852360723,
          0.43952670968961416,
          0.03636277326999738,
          2.7674393835533104,
          7.288231135555799,
          0.38874170611568726,
          1.453098938182564,
          0.5903276133813408,
          0.018406638391346323,
          0.3717421412276792,
          25.157239859778674,
          5.079925656179409,
          0.6686528263305064,
          0.8568036491050366,
          0.0015534304338925254,
          0.027477703490805142,
          6.9667124537376415,
          0.27638975173112595,
          0.1142861837395802,
          0.6135177783291312,
          4.203938948876589
         ]
        }
       ],
       "layout": {}
      },
      "text/html": [
       "<div id=\"2c499cfd-d55d-44da-8ec1-3b643aa4a927\" style=\"height: 525px; width: 100%;\" class=\"plotly-graph-div\"></div><script type=\"text/javascript\">require([\"plotly\"], function(Plotly) { window.PLOTLYENV=window.PLOTLYENV || {};window.PLOTLYENV.BASE_URL=\"https://plot.ly\";Plotly.newPlot(\"2c499cfd-d55d-44da-8ec1-3b643aa4a927\", [{\"labels\": [\"ROPA\", \"HOTEL\", \"RESTAURANTE\", \"COCHE\", \"COMPRA BIENES\", \"TELECOM\", \"MISC\", \"AVION\", \"REGALOS\", \"SOCIAL\", \"DIRECT MARKETING\", \"LIBRERIA\", \"SALIDAS\", \"TREN\", \"SUPERMERCADO\", \"DEPORTE\", \"VIAJE\", \"HOGAR\", \"BUSINESS\", \"DUTYFREE\", \"BANCO\", \"IMAGEN\", \"COMPRA BIENES LUJO\", \"ESTETICA\", \"SALUD\", \"ESCUELA\", \"MUEBLES\", \"CASINO\", \"BEBIDAS\", \"BARCO\", \"TABACO\", \"CA$H\", \"ARTE\", null, \"SEGUROS\", \"AGRICULTURA\", \"FUNERARIAS\"], \"values\": [0.0015499578359005855, 0.052161501893843505, 3.774990224606202, 7.076961800684677, 0.14070347688120036, 0.03335602379222923, 0.08870019050761012, 10.424288008830583, 0.08412849241605332, 7.084542191188765, 11.382950984169456, 1.721183543094488, 0.4324947303383795, 0.293581832464185, 0.25440135525441676, 0.12668516852360723, 0.43952670968961416, 0.03636277326999738, 2.7674393835533104, 7.288231135555799, 0.38874170611568726, 1.453098938182564, 0.5903276133813408, 0.018406638391346323, 0.3717421412276792, 25.157239859778674, 5.079925656179409, 0.6686528263305064, 0.8568036491050366, 0.0015534304338925254, 0.027477703490805142, 6.9667124537376415, 0.27638975173112595, 0.1142861837395802, 0.6135177783291312, 4.203938948876589], \"type\": \"pie\", \"uid\": \"d5476cd8-a9fc-42f0-afb8-b04256e426a5\"}], {}, {\"showLink\": true, \"linkText\": \"Export to plot.ly\"})});</script><script type=\"text/javascript\">window.addEventListener(\"resize\", function(){window._Plotly.Plots.resize(document.getElementById(\"2c499cfd-d55d-44da-8ec1-3b643aa4a927\"));});</script>"
      ],
      "text/vnd.plotly.v1+html": [
       "<div id=\"2c499cfd-d55d-44da-8ec1-3b643aa4a927\" style=\"height: 525px; width: 100%;\" class=\"plotly-graph-div\"></div><script type=\"text/javascript\">require([\"plotly\"], function(Plotly) { window.PLOTLYENV=window.PLOTLYENV || {};window.PLOTLYENV.BASE_URL=\"https://plot.ly\";Plotly.newPlot(\"2c499cfd-d55d-44da-8ec1-3b643aa4a927\", [{\"labels\": [\"ROPA\", \"HOTEL\", \"RESTAURANTE\", \"COCHE\", \"COMPRA BIENES\", \"TELECOM\", \"MISC\", \"AVION\", \"REGALOS\", \"SOCIAL\", \"DIRECT MARKETING\", \"LIBRERIA\", \"SALIDAS\", \"TREN\", \"SUPERMERCADO\", \"DEPORTE\", \"VIAJE\", \"HOGAR\", \"BUSINESS\", \"DUTYFREE\", \"BANCO\", \"IMAGEN\", \"COMPRA BIENES LUJO\", \"ESTETICA\", \"SALUD\", \"ESCUELA\", \"MUEBLES\", \"CASINO\", \"BEBIDAS\", \"BARCO\", \"TABACO\", \"CA$H\", \"ARTE\", null, \"SEGUROS\", \"AGRICULTURA\", \"FUNERARIAS\"], \"values\": [0.0015499578359005855, 0.052161501893843505, 3.774990224606202, 7.076961800684677, 0.14070347688120036, 0.03335602379222923, 0.08870019050761012, 10.424288008830583, 0.08412849241605332, 7.084542191188765, 11.382950984169456, 1.721183543094488, 0.4324947303383795, 0.293581832464185, 0.25440135525441676, 0.12668516852360723, 0.43952670968961416, 0.03636277326999738, 2.7674393835533104, 7.288231135555799, 0.38874170611568726, 1.453098938182564, 0.5903276133813408, 0.018406638391346323, 0.3717421412276792, 25.157239859778674, 5.079925656179409, 0.6686528263305064, 0.8568036491050366, 0.0015534304338925254, 0.027477703490805142, 6.9667124537376415, 0.27638975173112595, 0.1142861837395802, 0.6135177783291312, 4.203938948876589], \"type\": \"pie\", \"uid\": \"d5476cd8-a9fc-42f0-afb8-b04256e426a5\"}], {}, {\"showLink\": true, \"linkText\": \"Export to plot.ly\"})});</script><script type=\"text/javascript\">window.addEventListener(\"resize\", function(){window._Plotly.Plots.resize(document.getElementById(\"2c499cfd-d55d-44da-8ec1-3b643aa4a927\"));});</script>"
      ]
     },
     "metadata": {},
     "output_type": "display_data"
    }
   ],
   "source": [
    "trace = go.Pie(labels=labels, values=values)\n",
    "iplot([trace])"
   ]
  },
  {
   "cell_type": "markdown",
   "metadata": {},
   "source": [
    "## Exercises"
   ]
  },
  {
   "cell_type": "markdown",
   "metadata": {},
   "source": [
    "Can you plot a histogram with the total amont of money spent per activity?"
   ]
  },
  {
   "cell_type": "code",
   "execution_count": null,
   "metadata": {},
   "outputs": [],
   "source": []
  },
  {
   "cell_type": "markdown",
   "metadata": {},
   "source": [
    "Can you plot a pie-cart with the previous calculation of money spent by members or the same political party / labour union?"
   ]
  },
  {
   "cell_type": "code",
   "execution_count": null,
   "metadata": {},
   "outputs": [],
   "source": []
  },
  {
   "cell_type": "markdown",
   "metadata": {},
   "source": [
    "Can you plot a pie-chart with the import discretized?"
   ]
  },
  {
   "cell_type": "code",
   "execution_count": null,
   "metadata": {},
   "outputs": [],
   "source": []
  }
 ],
 "metadata": {
  "hide_input": false,
  "kernelspec": {
   "display_name": "Python 3",
   "language": "python",
   "name": "python3"
  },
  "language_info": {
   "codemirror_mode": {
    "name": "ipython",
    "version": 3
   },
   "file_extension": ".py",
   "mimetype": "text/x-python",
   "name": "python",
   "nbconvert_exporter": "python",
   "pygments_lexer": "ipython3",
   "version": "3.7.0"
  },
  "toc": {
   "nav_menu": {},
   "number_sections": false,
   "sideBar": true,
   "skip_h1_title": false,
   "toc_cell": true,
   "toc_position": {
    "height": "1437.5px",
    "left": "0px",
    "right": "1238.06982421875px",
    "top": "66.48896789550781px",
    "width": "267.8125px"
   },
   "toc_section_display": "block",
   "toc_window_display": true
  },
  "varInspector": {
   "cols": {
    "lenName": 16,
    "lenType": 16,
    "lenVar": 40
   },
   "kernels_config": {
    "python": {
     "delete_cmd_postfix": "",
     "delete_cmd_prefix": "del ",
     "library": "var_list.py",
     "varRefreshCmd": "print(var_dic_list())"
    },
    "r": {
     "delete_cmd_postfix": ") ",
     "delete_cmd_prefix": "rm(",
     "library": "var_list.r",
     "varRefreshCmd": "cat(var_dic_list()) "
    }
   },
   "types_to_exclude": [
    "module",
    "function",
    "builtin_function_or_method",
    "instance",
    "_Feature"
   ],
   "window_display": false
  }
 },
 "nbformat": 4,
 "nbformat_minor": 2
}
